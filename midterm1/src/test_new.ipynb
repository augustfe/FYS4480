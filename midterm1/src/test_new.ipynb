{
 "cells": [
  {
   "cell_type": "code",
   "execution_count": 35,
   "metadata": {},
   "outputs": [],
   "source": [
    "import numpy as np\n",
    "import sympy as sp"
   ]
  },
  {
   "cell_type": "code",
   "execution_count": 36,
   "metadata": {},
   "outputs": [],
   "source": [
    "# The look up table takes the form list[\\sigma, ...] + list[Excitations]\n",
    "# lookup_table = {\n",
    "# 0: [],  # | c > b_0 b_0^\\dagger b_0 b_0^\\dagger\n",
    "# 1: [0, 1],  # | \\Phi_1^2 > +\n",
    "# 2: [0, 2],  # | \\Phi_1^3 > +\n",
    "# 3: [1, 1],  # | \\Phi_1^2 > -\n",
    "# 4: [1, 2],  # | \\Phi_1^3 > -\n",
    "# 5: [0, 1, 1, 1],  # | \\Phi_{1, 1}^{2, 2} >\n",
    "# 6: [0, 1, 1, 2],  # | \\Phi_{1, 1}^{2, 3} >\n",
    "# 7: [0, 1, 2, 1],  # | \\Phi_{1, 1}^{3, 2} >\n",
    "# 8: [0, 1, 2, 2],  # | \\Phi_{1, 1}^{3, 3} >\n",
    "# }"
   ]
  },
  {
   "cell_type": "code",
   "execution_count": 37,
   "metadata": {},
   "outputs": [],
   "source": [
    "# Encode the first number of the look up table as spin up or down, and the second as the excitation\n",
    "lookup_table = {\n",
    "    0: [],\n",
    "    1: [0, 1],  # +\n",
    "    2: [1, 1],  # -\n",
    "    3: [0, 2],  # +\n",
    "    4: [1, 2],  # -\n",
    "}"
   ]
  },
  {
   "cell_type": "code",
   "execution_count": 38,
   "metadata": {},
   "outputs": [],
   "source": [
    "from utils import read_elements, Z\n",
    "from energy import Energy\n",
    "\n",
    "\n",
    "groundstate = np.array(\n",
    "    [\n",
    "        [1, 0, 0],\n",
    "        [1, 0, 0],\n",
    "    ]\n",
    ")\n",
    "energy = Energy(groundstate)\n",
    "values = energy.values\n",
    "\n",
    "\n",
    "def antisymmetrize(alpha: int, beta: int, gamma: int, delta: int):\n",
    "    return values[alpha, beta, gamma, delta] - values[alpha, beta, delta, gamma]\n",
    "\n",
    "\n",
    "def annihilate_and_create(sigma: int, i: int, a: int):\n",
    "    new_state = np.copy(groundstate)\n",
    "    new_state[sigma, i] -= 1\n",
    "    new_state[sigma, a] += 1\n",
    "    return new_state"
   ]
  },
  {
   "cell_type": "code",
   "execution_count": 39,
   "metadata": {},
   "outputs": [],
   "source": [
    "class SetupMatrix:\n",
    "    def __init__(self, F: int, ref_energy: Energy):\n",
    "        self.F = F\n",
    "        self.groundstate = np.zeros((2, 3))\n",
    "        self.groundstate[:, :F] = 1\n",
    "        self.ref_energy = ref_energy\n",
    "        self.values = self.ref_energy.values\n",
    "\n",
    "    def get_hole_particle(\n",
    "        self, state: np.ndarray\n",
    "    ) -> tuple[tuple[int, int], tuple[int, int]]:\n",
    "        hole = np.argwhere(state[:, : self.F] == 0)[0]\n",
    "        particle = np.argwhere(state[:, self.F :] == 1)[0]\n",
    "        particle = particle + np.array([0, self.F])\n",
    "\n",
    "        return tuple(hole), tuple(particle)\n",
    "\n",
    "    def energy_from_state(\n",
    "        self, bra_state: np.ndarray, ket_state: np.ndarray\n",
    "    ) -> sp.Expr:\n",
    "\n",
    "        if np.all(bra_state == self.groundstate) and np.all(\n",
    "            ket_state == self.groundstate\n",
    "        ):\n",
    "            return self.ref_energy.E_ref\n",
    "\n",
    "        if np.all(bra_state == self.groundstate) or np.all(\n",
    "            ket_state == self.groundstate\n",
    "        ):\n",
    "            acting = bra_state if np.all(ket_state == self.groundstate) else ket_state\n",
    "            i, a = self.get_hole_particle(acting)\n",
    "\n",
    "            return self.f(i, a)\n",
    "\n",
    "        i, a = self.get_hole_particle(bra_state)\n",
    "        j, b = self.get_hole_particle(ket_state)\n",
    "\n",
    "        energy = self.ref_energy.E_ref * self.delta(i, j) * self.delta(a, b)\n",
    "        energy += self.f(a, b) * self.delta(i, j)\n",
    "        energy -= self.f(i, j) * self.delta(a, b)\n",
    "        energy += self.antisymmetrized(a, j, i, b)\n",
    "\n",
    "        return energy\n",
    "\n",
    "    def delta(self, alpha: int, beta: int) -> int:\n",
    "        if alpha == beta:\n",
    "            return 1\n",
    "        return 0\n",
    "\n",
    "    def h0(self, p: tuple[int, int], q: tuple[int, int]) -> sp.Expr:\n",
    "        if p != q:\n",
    "            return 0\n",
    "        n = p[1]\n",
    "        return -(Z**2) / (2 * (n + 1) ** 2)\n",
    "\n",
    "    def v(\n",
    "        self,\n",
    "        p: tuple[int, int],\n",
    "        q: tuple[int, int],\n",
    "        r: tuple[int, int],\n",
    "        s: tuple[int, int],\n",
    "    ) -> sp.Expr:\n",
    "        spins = tuple(map(lambda x: x[0], [p, q, r, s]))\n",
    "        levels = tuple(map(lambda x: x[1], [p, q, r, s]))\n",
    "        if not self.spin_ok(*spins):\n",
    "            return 0\n",
    "\n",
    "        if p == q or r == s:\n",
    "            return 0\n",
    "\n",
    "        return self.values[levels[0], levels[1], levels[2], levels[3]]\n",
    "\n",
    "    def antisymmetrized(\n",
    "        self,\n",
    "        p: tuple[int, int],\n",
    "        q: tuple[int, int],\n",
    "        r: tuple[int, int],\n",
    "        s: tuple[int, int],\n",
    "    ) -> sp.Expr:\n",
    "        return self.v(p, q, r, s) - self.v(p, q, s, r)\n",
    "\n",
    "    def f(self, p: tuple[int, int], q: tuple[int, int]):\n",
    "        energy = self.h0(p, q)\n",
    "\n",
    "        for spin in range(2):\n",
    "            for k in range(self.F):\n",
    "                energy += self.antisymmetrized(p, (spin, k), q, (spin, k))\n",
    "\n",
    "        return energy\n",
    "\n",
    "    def spin_ok(self, a: int, b: int, c: int, d: int) -> bool:\n",
    "        if a == c and b == d:\n",
    "            return True\n",
    "        return False"
   ]
  },
  {
   "cell_type": "code",
   "execution_count": 46,
   "metadata": {},
   "outputs": [
    {
     "name": "stdout",
     "output_type": "stream",
     "text": [
      "Annihilate 0 and create 1 with spin 0\n",
      "Annihilate 0 and create 1 with spin 1\n",
      "Annihilate 0 and create 2 with spin 0\n",
      "Annihilate 0 and create 2 with spin 1\n"
     ]
    }
   ],
   "source": [
    "total_states = [groundstate]\n",
    "\n",
    "for a in range(1, 3):\n",
    "    for sigma in range(2):\n",
    "        print(f\"Annihilate {0} and create {a} with spin {sigma}\")\n",
    "        new_state = annihilate_and_create(sigma, 0, a)\n",
    "        total_states.append(new_state)"
   ]
  },
  {
   "cell_type": "code",
   "execution_count": 47,
   "metadata": {},
   "outputs": [],
   "source": [
    "Hamiltonian = sp.zeros(len(total_states), len(total_states))\n",
    "setup = SetupMatrix(1, energy)\n",
    "\n",
    "for i, bra_state in enumerate(total_states):\n",
    "    for j, ket_state in enumerate(total_states):\n",
    "        Hamiltonian[i, j] = setup.energy_from_state(bra_state, ket_state)"
   ]
  },
  {
   "cell_type": "code",
   "execution_count": 64,
   "metadata": {},
   "outputs": [
    {
     "data": {
      "text/latex": [
       "$\\displaystyle \\left[\\begin{matrix}-2.75 & 0.178710066838823 & 0.178710066838823 & 0.0879188989921962 & 0.0879188989921962\\\\0.178710066838823 & -2.08024691358025 & 0.0438957475994513 & 0.101052953825573 & 0.0224458369965822\\\\0.178710066838823 & 0.0438957475994513 & -2.08024691358025 & 0.0224458369965822 & 0.101052953825573\\\\0.0879188989921962 & 0.101052953825573 & 0.0224458369965822 & -2.02324761284722 & 0.01153564453125\\\\0.0879188989921962 & 0.0224458369965822 & 0.101052953825573 & 0.01153564453125 & -2.02324761284722\\end{matrix}\\right]$"
      ],
      "text/plain": [
       "Matrix([\n",
       "[             -2.75,  0.178710066838823,  0.178710066838823, 0.0879188989921962, 0.0879188989921962],\n",
       "[ 0.178710066838823,  -2.08024691358025, 0.0438957475994513,  0.101052953825573, 0.0224458369965822],\n",
       "[ 0.178710066838823, 0.0438957475994513,  -2.08024691358025, 0.0224458369965822,  0.101052953825573],\n",
       "[0.0879188989921962,  0.101052953825573, 0.0224458369965822,  -2.02324761284722,   0.01153564453125],\n",
       "[0.0879188989921962, 0.0224458369965822,  0.101052953825573,   0.01153564453125,  -2.02324761284722]])"
      ]
     },
     "execution_count": 64,
     "metadata": {},
     "output_type": "execute_result"
    }
   ],
   "source": [
    "he_Hamiltonian = Hamiltonian.subs(Z, 2)\n",
    "he_Hamiltonian.evalf()"
   ]
  },
  {
   "cell_type": "code",
   "execution_count": 67,
   "metadata": {},
   "outputs": [],
   "source": [
    "he_eigenvals = [\n",
    "    sp.re(key.evalf())\n",
    "    for key, value in he_Hamiltonian.eigenvals().items()\n",
    "    for _ in range(value)\n",
    "]"
   ]
  },
  {
   "cell_type": "code",
   "execution_count": 71,
   "metadata": {},
   "outputs": [
    {
     "data": {
      "text/latex": [
       "$\\displaystyle -2.83864845277878$"
      ],
      "text/plain": [
       "-2.83864845277878"
      ]
     },
     "execution_count": 71,
     "metadata": {},
     "output_type": "execute_result"
    }
   ],
   "source": [
    "lmbda = min(he_eigenvals)\n",
    "lmbda"
   ]
  },
  {
   "cell_type": "code",
   "execution_count": 70,
   "metadata": {},
   "outputs": [
    {
     "data": {
      "text/latex": [
       "$\\displaystyle -77.2112379155829$"
      ],
      "text/plain": [
       "-77.2112379155829"
      ]
     },
     "execution_count": 70,
     "metadata": {},
     "output_type": "execute_result"
    }
   ],
   "source": [
    "lmbda * 2 * 13.6"
   ]
  }
 ],
 "metadata": {
  "kernelspec": {
   "display_name": "fys4480",
   "language": "python",
   "name": "python3"
  },
  "language_info": {
   "codemirror_mode": {
    "name": "ipython",
    "version": 3
   },
   "file_extension": ".py",
   "mimetype": "text/x-python",
   "name": "python",
   "nbconvert_exporter": "python",
   "pygments_lexer": "ipython3",
   "version": "3.12.7"
  }
 },
 "nbformat": 4,
 "nbformat_minor": 2
}
