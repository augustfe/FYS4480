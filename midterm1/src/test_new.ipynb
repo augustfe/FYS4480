{
 "cells": [
  {
   "cell_type": "code",
   "execution_count": 3,
   "metadata": {},
   "outputs": [],
   "source": [
    "import numpy as np\n",
    "import sympy as sp"
   ]
  },
  {
   "cell_type": "code",
   "execution_count": 4,
   "metadata": {},
   "outputs": [],
   "source": [
    "# The look up table takes the form list[\\sigma, ...] + list[Excitations]\n",
    "# lookup_table = {\n",
    "# 0: [],  # | c > b_0 b_0^\\dagger b_0 b_0^\\dagger\n",
    "# 1: [0, 1],  # | \\Phi_1^2 > +\n",
    "# 2: [0, 2],  # | \\Phi_1^3 > +\n",
    "# 3: [1, 1],  # | \\Phi_1^2 > -\n",
    "# 4: [1, 2],  # | \\Phi_1^3 > -\n",
    "# 5: [0, 1, 1, 1],  # | \\Phi_{1, 1}^{2, 2} >\n",
    "# 6: [0, 1, 1, 2],  # | \\Phi_{1, 1}^{2, 3} >\n",
    "# 7: [0, 1, 2, 1],  # | \\Phi_{1, 1}^{3, 2} >\n",
    "# 8: [0, 1, 2, 2],  # | \\Phi_{1, 1}^{3, 3} >\n",
    "# }"
   ]
  },
  {
   "cell_type": "code",
   "execution_count": 5,
   "metadata": {},
   "outputs": [],
   "source": [
    "# Encode the first number of the look up table as spin up or down, and the second as the excitation\n",
    "lookup_table = {\n",
    "    0: [],\n",
    "    1: [0, 1],  # +\n",
    "    2: [1, 1],  # -\n",
    "    3: [0, 2],  # +\n",
    "    4: [1, 2],  # -\n",
    "}"
   ]
  },
  {
   "cell_type": "code",
   "execution_count": 6,
   "metadata": {},
   "outputs": [],
   "source": [
    "from utils import read_elements, Z\n",
    "from energy import Energy\n",
    "\n",
    "\n",
    "groundstate = np.array(\n",
    "    [\n",
    "        [1, 0, 0],\n",
    "        [1, 0, 0],\n",
    "    ]\n",
    ")\n",
    "energy = Energy(groundstate)\n",
    "values = energy.values\n",
    "\n",
    "\n",
    "def antisymmetrize(alpha: int, beta: int, gamma: int, delta: int):\n",
    "    return values[alpha, beta, gamma, delta] - values[alpha, beta, delta, gamma]\n",
    "\n",
    "\n",
    "def annihilate_and_create(sigma: int, i: int, a: int):\n",
    "    new_state = np.copy(groundstate)\n",
    "    new_state[sigma, i] -= 1\n",
    "    new_state[sigma, a] += 1\n",
    "    return new_state"
   ]
  },
  {
   "cell_type": "code",
   "execution_count": null,
   "metadata": {},
   "outputs": [],
   "source": [
    "class SetupMatrix:\n",
    "    def __init__(self, F: int, ref_energy: Energy):\n",
    "        self.F = F\n",
    "        self.groundstate = np.zeros((2, 3))\n",
    "        self.groundstate[:, :F] = 1\n",
    "        self.ref_energy = ref_energy\n",
    "        self.values = self.ref_energy.values\n",
    "\n",
    "    def get_hole_particle(\n",
    "        self, state: np.ndarray\n",
    "    ) -> tuple[tuple[int, int], tuple[int, int]]:\n",
    "        hole = np.argwhere(state[:, : self.F] == 0)[0]\n",
    "        particle = np.argwhere(state[:, self.F :] == 1)[0]\n",
    "        particle = particle + np.array([0, self.F])\n",
    "\n",
    "        return tuple(hole), tuple(particle)\n",
    "\n",
    "    def energy_from_state(\n",
    "        self, bra_state: np.ndarray, ket_state: np.ndarray\n",
    "    ) -> sp.Expr:\n",
    "\n",
    "        if np.all(bra_state == self.groundstate) and np.all(\n",
    "            ket_state == self.groundstate\n",
    "        ):\n",
    "            return self.ref_energy.E_ref\n",
    "        # if np.all(bra_state == ket_state):\n",
    "        #     energy = self.ref_energy.E_ref\n",
    "        #     if np.all(bra_state == self.groundstate):\n",
    "        #         return energy\n",
    "\n",
    "        #     i, a = self.get_hole_particle(bra_state)\n",
    "        #     energy += self.f(a, a) - self.f(i, i)\n",
    "        #     energy += self.antisymmetrized(a, i, i, a)\n",
    "        #     return energy\n",
    "\n",
    "        if np.all(bra_state == self.groundstate) or np.all(\n",
    "            ket_state == self.groundstate\n",
    "        ):\n",
    "            acting = bra_state if np.all(ket_state == self.groundstate) else ket_state\n",
    "            i, a = self.get_hole_particle(acting)\n",
    "\n",
    "            return self.f(i, a)\n",
    "\n",
    "        i, a = self.get_hole_particle(bra_state)\n",
    "        j, b = self.get_hole_particle(ket_state)\n",
    "\n",
    "        energy = self.ref_energy.E_ref * self.delta(i, j) * self.delta(a, b)\n",
    "        energy += self.f(a, b) * self.delta(i, j)\n",
    "        energy -= self.f(i, j) * self.delta(a, b)\n",
    "        energy += self.antisymmetrized(a, j, i, b)\n",
    "\n",
    "        return energy\n",
    "\n",
    "    def delta(self, alpha: int, beta: int) -> int:\n",
    "        if alpha == beta:\n",
    "            return 1\n",
    "        return 0\n",
    "\n",
    "    def h0(self, p: tuple[int, int], q: tuple[int, int]) -> sp.Expr:\n",
    "        if p != q:\n",
    "            return 0\n",
    "        n = p[1]\n",
    "        return -(Z**2) / (2 * (n + 1) ** 2)\n",
    "\n",
    "    def v(\n",
    "        self,\n",
    "        p: tuple[int, int],\n",
    "        q: tuple[int, int],\n",
    "        r: tuple[int, int],\n",
    "        s: tuple[int, int],\n",
    "    ) -> sp.Expr:\n",
    "        spins = tuple(map(lambda x: x[0], [p, q, r, s]))\n",
    "        levels = tuple(map(lambda x: x[1], [p, q, r, s]))\n",
    "        if not self.spin_ok(*spins):\n",
    "            return 0\n",
    "\n",
    "        if p == q or r == s:\n",
    "            return 0\n",
    "\n",
    "        return self.values[levels[0], levels[1], levels[2], levels[3]]\n",
    "\n",
    "    def antisymmetrized(\n",
    "        self,\n",
    "        p: tuple[int, int],\n",
    "        q: tuple[int, int],\n",
    "        r: tuple[int, int],\n",
    "        s: tuple[int, int],\n",
    "    ) -> sp.Expr:\n",
    "        return self.v(p, q, r, s) - self.v(p, q, s, r)\n",
    "\n",
    "    def f(self, p: tuple[int, int], q: tuple[int, int]):\n",
    "        energy = self.h0(p, q)\n",
    "\n",
    "        for spin in range(2):\n",
    "            for k in range(self.F):\n",
    "                energy += self.antisymmetrized(p, (spin, k), q, (spin, k))\n",
    "\n",
    "        return energy\n",
    "\n",
    "    def spin_ok(self, a: int, b: int, c: int, d: int) -> bool:\n",
    "        if a == c and b == d:\n",
    "            return True\n",
    "        return False"
   ]
  },
  {
   "cell_type": "code",
   "execution_count": 17,
   "metadata": {},
   "outputs": [
    {
     "name": "stdout",
     "output_type": "stream",
     "text": [
      "Annihilate 0 and create 1 with spin 0\n",
      "[[0. 1. 0.]\n",
      " [1. 0. 0.]]\n",
      "(0, 1) (1, 0)\n",
      "\n",
      "Annihilate 0 and create 1 with spin 1\n",
      "[[1. 0. 0.]\n",
      " [0. 1. 0.]]\n",
      "(0, 0) (1, 1)\n",
      "\n",
      "Annihilate 0 and create 2 with spin 0\n",
      "[[0. 0. 1.]\n",
      " [1. 0. 0.]]\n",
      "(0, 1) (2, 0)\n",
      "\n",
      "Annihilate 0 and create 2 with spin 1\n",
      "[[1. 0. 0.]\n",
      " [0. 0. 1.]]\n",
      "(0, 0) (2, 1)\n",
      "\n"
     ]
    }
   ],
   "source": [
    "for a in range(1, 3):\n",
    "    for sigma in range(2):\n",
    "        print(f\"Annihilate {0} and create {a} with spin {sigma}\")\n",
    "        new_state = annihilate_and_create(sigma, 0, a)\n",
    "        print(new_state)\n",
    "        row, col = np.nonzero(new_state.T)\n",
    "        hole = (row[0], col[0])\n",
    "        particle = (row[1], col[1])\n",
    "        print(hole, particle)\n",
    "        print()"
   ]
  },
  {
   "cell_type": "code",
   "execution_count": 14,
   "metadata": {},
   "outputs": [
    {
     "data": {
      "text/plain": [
       "True"
      ]
     },
     "execution_count": 14,
     "metadata": {},
     "output_type": "execute_result"
    }
   ],
   "source": [
    "np.ones((2, 3))\n",
    "np.array_equal(np.ones((2, 3)), np.ones((2, 3)))"
   ]
  },
  {
   "cell_type": "code",
   "execution_count": 22,
   "metadata": {},
   "outputs": [
    {
     "name": "stdout",
     "output_type": "stream",
     "text": [
      "[[1. 0. 0.]\n",
      " [0. 0. 1.]]\n",
      "[[1.]\n",
      " [0.]]\n"
     ]
    }
   ],
   "source": [
    "print(new_state)\n",
    "print(new_state[:, :1])"
   ]
  },
  {
   "cell_type": "code",
   "execution_count": 30,
   "metadata": {},
   "outputs": [
    {
     "data": {
      "text/plain": [
       "array([1, 2])"
      ]
     },
     "execution_count": 30,
     "metadata": {},
     "output_type": "execute_result"
    }
   ],
   "source": [
    "np.argwhere(new_state[:, :1] == 0)\n",
    "np.argwhere(new_state[:, 1:] == 1)[0] + np.array([0, 1])"
   ]
  },
  {
   "cell_type": "code",
   "execution_count": 32,
   "metadata": {},
   "outputs": [
    {
     "data": {
      "text/plain": [
       "(1, 2)"
      ]
     },
     "execution_count": 32,
     "metadata": {},
     "output_type": "execute_result"
    }
   ],
   "source": [
    "tuple(np.array([1, 2]))"
   ]
  }
 ],
 "metadata": {
  "kernelspec": {
   "display_name": "fys4480",
   "language": "python",
   "name": "python3"
  },
  "language_info": {
   "codemirror_mode": {
    "name": "ipython",
    "version": 3
   },
   "file_extension": ".py",
   "mimetype": "text/x-python",
   "name": "python",
   "nbconvert_exporter": "python",
   "pygments_lexer": "ipython3",
   "version": "3.12.7"
  }
 },
 "nbformat": 4,
 "nbformat_minor": 2
}
