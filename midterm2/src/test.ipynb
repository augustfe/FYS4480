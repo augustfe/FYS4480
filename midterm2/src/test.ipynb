{
 "cells": [
  {
   "cell_type": "code",
   "execution_count": 1,
   "metadata": {},
   "outputs": [],
   "source": [
    "import numpy as np"
   ]
  },
  {
   "cell_type": "code",
   "execution_count": null,
   "metadata": {},
   "outputs": [],
   "source": [
    "num_orbitals = 2\n",
    "spin_degen = 2\n",
    "\n",
    "np.random.seed(0)\n",
    "C = np.random.uniform(-1, 1, (num_orbitals * spin_degen, num_orbitals * spin_degen))"
   ]
  },
  {
   "cell_type": "code",
   "execution_count": 41,
   "metadata": {},
   "outputs": [],
   "source": [
    "rho = C.T @ C"
   ]
  },
  {
   "cell_type": "code",
   "execution_count": 42,
   "metadata": {},
   "outputs": [
    {
     "data": {
      "text/plain": [
       "array([[ 0.91129826, -0.10287384,  0.46341812, -0.16966076],\n",
       "       [-0.10287384,  1.04923973, -0.81424285, -0.44907429],\n",
       "       [ 0.46341812, -0.81424285,  1.13427692,  0.66278687],\n",
       "       [-0.16966076, -0.44907429,  0.66278687,  1.30719086]])"
      ]
     },
     "execution_count": 42,
     "metadata": {},
     "output_type": "execute_result"
    }
   ],
   "source": [
    "rho"
   ]
  },
  {
   "cell_type": "code",
   "execution_count": 43,
   "metadata": {},
   "outputs": [],
   "source": [
    "new_rho = rho.reshape(num_orbitals, spin_degen, num_orbitals, spin_degen).swapaxes(1, 2)"
   ]
  },
  {
   "cell_type": "code",
   "execution_count": 44,
   "metadata": {},
   "outputs": [
    {
     "data": {
      "text/plain": [
       "(array([[ 0.91129826, -0.10287384],\n",
       "        [-0.10287384,  1.04923973]]),\n",
       " array([[ 0.91129826, -0.10287384],\n",
       "        [-0.10287384,  1.04923973]]))"
      ]
     },
     "execution_count": 44,
     "metadata": {},
     "output_type": "execute_result"
    }
   ],
   "source": [
    "rho[:spin_degen, :spin_degen], new_rho[0, 0]"
   ]
  },
  {
   "cell_type": "code",
   "execution_count": 46,
   "metadata": {},
   "outputs": [
    {
     "data": {
      "text/plain": [
       "array([[ 0.46341812, -0.16966076],\n",
       "       [-0.81424285, -0.44907429]])"
      ]
     },
     "execution_count": 46,
     "metadata": {},
     "output_type": "execute_result"
    }
   ],
   "source": [
    "new_rho[0, 1]"
   ]
  },
  {
   "cell_type": "code",
   "execution_count": 63,
   "metadata": {},
   "outputs": [],
   "source": [
    "flipped = np.copy(new_rho)\n",
    "flipped[..., 0, 0], flipped[..., 1, 1] = new_rho[..., 1, 1], new_rho[..., 0, 0]\n",
    "flipped[..., 0, 1], flipped[..., 1, 0] = new_rho[..., 1, 0], new_rho[..., 0, 1]"
   ]
  },
  {
   "cell_type": "code",
   "execution_count": 65,
   "metadata": {},
   "outputs": [
    {
     "data": {
      "text/plain": [
       "(array([[[[ 0.91129826, -0.10287384],\n",
       "          [-0.10287384,  1.04923973]],\n",
       " \n",
       "         [[ 0.46341812, -0.16966076],\n",
       "          [-0.81424285, -0.44907429]]],\n",
       " \n",
       " \n",
       "        [[[ 0.46341812, -0.81424285],\n",
       "          [-0.16966076, -0.44907429]],\n",
       " \n",
       "         [[ 1.13427692,  0.66278687],\n",
       "          [ 0.66278687,  1.30719086]]]]),\n",
       " array([[[[ 1.04923973, -0.10287384],\n",
       "          [-0.10287384,  0.91129826]],\n",
       " \n",
       "         [[-0.44907429, -0.81424285],\n",
       "          [-0.16966076,  0.46341812]]],\n",
       " \n",
       " \n",
       "        [[[-0.44907429, -0.16966076],\n",
       "          [-0.81424285,  0.46341812]],\n",
       " \n",
       "         [[ 1.30719086,  0.66278687],\n",
       "          [ 0.66278687,  1.13427692]]]]))"
      ]
     },
     "execution_count": 65,
     "metadata": {},
     "output_type": "execute_result"
    }
   ],
   "source": [
    "new_rho, flipped"
   ]
  },
  {
   "cell_type": "code",
   "execution_count": 64,
   "metadata": {},
   "outputs": [
    {
     "data": {
      "text/plain": [
       "array([[[[ 1.04923973, -0.10287384],\n",
       "         [-0.10287384,  0.91129826]],\n",
       "\n",
       "        [[-0.44907429, -0.81424285],\n",
       "         [-0.16966076,  0.46341812]]],\n",
       "\n",
       "\n",
       "       [[[-0.44907429, -0.16966076],\n",
       "         [-0.81424285,  0.46341812]],\n",
       "\n",
       "        [[ 1.30719086,  0.66278687],\n",
       "         [ 0.66278687,  1.13427692]]]])"
      ]
     },
     "execution_count": 64,
     "metadata": {},
     "output_type": "execute_result"
    }
   ],
   "source": [
    "flipped"
   ]
  },
  {
   "cell_type": "code",
   "execution_count": 47,
   "metadata": {},
   "outputs": [
    {
     "data": {
      "text/plain": [
       "array([[ 0.46341812, -0.81424285],\n",
       "       [-0.16966076, -0.44907429]])"
      ]
     },
     "execution_count": 47,
     "metadata": {},
     "output_type": "execute_result"
    }
   ],
   "source": [
    "new_new_rho = new_rho.swapaxes(-1, -2)\n",
    "new_new_rho[0, 1]"
   ]
  },
  {
   "cell_type": "code",
   "execution_count": 58,
   "metadata": {},
   "outputs": [
    {
     "data": {
      "text/plain": [
       "array([[-0.44907429, -0.16966076],\n",
       "       [-0.81424285,  0.46341812]])"
      ]
     },
     "execution_count": 58,
     "metadata": {},
     "output_type": "execute_result"
    }
   ],
   "source": [
    "Q_rho = np.flip(new_rho)\n",
    "Q_rho[0, 1]"
   ]
  },
  {
   "cell_type": "code",
   "execution_count": 60,
   "metadata": {},
   "outputs": [
    {
     "data": {
      "text/plain": [
       "array([[[[ 0.91129826, -0.10287384],\n",
       "         [-0.10287384,  1.04923973]],\n",
       "\n",
       "        [[ 0.46341812, -0.16966076],\n",
       "         [-0.81424285, -0.44907429]]],\n",
       "\n",
       "\n",
       "       [[[ 0.46341812, -0.81424285],\n",
       "         [-0.16966076, -0.44907429]],\n",
       "\n",
       "        [[ 1.13427692,  0.66278687],\n",
       "         [ 0.66278687,  1.30719086]]]])"
      ]
     },
     "execution_count": 60,
     "metadata": {},
     "output_type": "execute_result"
    }
   ],
   "source": [
    "new_rho"
   ]
  },
  {
   "cell_type": "code",
   "execution_count": 59,
   "metadata": {},
   "outputs": [
    {
     "data": {
      "text/plain": [
       "array([[[[ 1.30719086,  0.66278687],\n",
       "         [ 0.66278687,  1.13427692]],\n",
       "\n",
       "        [[-0.44907429, -0.16966076],\n",
       "         [-0.81424285,  0.46341812]]],\n",
       "\n",
       "\n",
       "       [[[-0.44907429, -0.81424285],\n",
       "         [-0.16966076,  0.46341812]],\n",
       "\n",
       "        [[ 1.04923973, -0.10287384],\n",
       "         [-0.10287384,  0.91129826]]]])"
      ]
     },
     "execution_count": 59,
     "metadata": {},
     "output_type": "execute_result"
    }
   ],
   "source": [
    "Q_rho"
   ]
  },
  {
   "cell_type": "code",
   "execution_count": 51,
   "metadata": {},
   "outputs": [
    {
     "data": {
      "text/plain": [
       "array([[ 0.91129826, -0.10287384,  0.46341812, -0.16966076],\n",
       "       [-0.10287384,  1.04923973, -0.81424285, -0.44907429],\n",
       "       [ 0.46341812, -0.81424285,  1.13427692,  0.66278687],\n",
       "       [-0.16966076, -0.44907429,  0.66278687,  1.30719086]])"
      ]
     },
     "execution_count": 51,
     "metadata": {},
     "output_type": "execute_result"
    }
   ],
   "source": [
    "rho"
   ]
  },
  {
   "cell_type": "code",
   "execution_count": null,
   "metadata": {},
   "outputs": [
    {
     "data": {
      "text/plain": [
       "array([[ 0.91129826, -0.10287384,  0.46341812, -0.81424285],\n",
       "       [-0.10287384,  1.04923973, -0.16966076, -0.44907429],\n",
       "       [ 0.46341812, -0.16966076,  1.13427692,  0.66278687],\n",
       "       [-0.81424285, -0.44907429,  0.66278687,  1.30719086]])"
      ]
     },
     "execution_count": 50,
     "metadata": {},
     "output_type": "execute_result"
    }
   ],
   "source": [
    "new_new_rho.swapaxes(1, 2).reshape(num_orbitals * spin_degen, num_orbitals * spin_degen)"
   ]
  }
 ],
 "metadata": {
  "kernelspec": {
   "display_name": "fys4480",
   "language": "python",
   "name": "python3"
  },
  "language_info": {
   "codemirror_mode": {
    "name": "ipython",
    "version": 3
   },
   "file_extension": ".py",
   "mimetype": "text/x-python",
   "name": "python",
   "nbconvert_exporter": "python",
   "pygments_lexer": "ipython3",
   "version": "3.12.7"
  }
 },
 "nbformat": 4,
 "nbformat_minor": 2
}
